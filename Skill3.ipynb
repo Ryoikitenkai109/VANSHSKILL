{
  "nbformat": 4,
  "nbformat_minor": 0,
  "metadata": {
    "colab": {
      "provenance": []
    },
    "kernelspec": {
      "name": "python3",
      "display_name": "Python 3"
    },
    "language_info": {
      "name": "python"
    }
  },
  "cells": [
    {
      "cell_type": "code",
      "source": [
        "\n",
        "#1. label encoding\n",
        "from sklearn.preprocessing import LabelEncoder\n",
        "data=['Low','High','Medium','High','Medium']\n",
        "encoder= LabelEncoder()\n",
        "encoded_data= encoder.fit_transform(data)\n",
        "print(f\"Label encoded data: {encoded_data}\")\n",
        "#2. one hot encoding\n",
        "import pandas as pd\n",
        "data=['Red','Blue','Green','Blue','Red']\n",
        "df= pd.DataFrame(data,columns=['Color'])\n",
        "one_hot_encoded=pd.get_dummies(df['Color'])\n",
        "print(\"one hot encoded: \\n\")\n",
        "print(one_hot_encoded)\n",
        "#3. ordinal encoding\n",
        "from sklearn.preprocessing import OrdinalEncoder\n",
        "data=[['Low'],['High'],['Medium'],['High'],['Medium']]\n",
        "encoder= OrdinalEncoder(categories=[['Low','Medium','High']])\n",
        "encoded_data=encoder.fit_transform(data)\n",
        "print(f\"Ordinal Encoded Data: {encoded_data}\")\n",
        "#4. Target encoding\n",
        "!pip install category_encoders\n",
        "import pandas as pd\n",
        "import category_encoders as ce\n",
        "data= {'Color':['Red','Blue','Green','Blue','Red','Blue','Green','Green','Green','Blue'],'Target':['1','0','0','1','1','1','0','1','0','1']}\n",
        "df=pd.DataFrame(data)\n",
        "df['Target'] = df['Target'].astype(int)\n",
        "encoder= ce.TargetEncoder(cols=['Color'])\n",
        "encoded_data= encoder.fit_transform(df['Color'],df['Target'])\n",
        "print(f\"Target encoded: {encoded_data}\")\n",
        "#5. binary encoding\n",
        "import category_encoders as ce\n",
        "data=['Red','Green','Blue','Red','Grey']\n",
        "encoder = ce.BinaryEncoder(cols=['Color'])\n",
        "encoded_data= encoder.fit_transform(pd.DataFrame(data,columns=['Color']))\n",
        "print(\"binary encoded: \\n\")\n",
        "print(encoded_data)\n",
        "#6. frequency encoding\n",
        "import pandas as pd\n",
        "data=['Red','Green','Blue','Red','Red']\n",
        "series_data= pd.Series(data)\n",
        "frequency_encoding= series_data.value_counts()\n",
        "encoded_data= [frequency_encoding[x] for x in data]\n",
        "print(\"frequency encoded: \\n\")\n",
        "print(\"encoded data: \",encoded_data)"
      ],
      "metadata": {
        "colab": {
          "base_uri": "https://localhost:8080/"
        },
        "id": "Im0Lk6hu8UsL",
        "outputId": "dd0682b9-8935-4f2c-b41d-53e5c2e849a6"
      },
      "execution_count": 4,
      "outputs": [
        {
          "output_type": "stream",
          "name": "stdout",
          "text": [
            "Label encoded data: [1 0 2 0 2]\n",
            "one hot encoded: \n",
            "\n",
            "    Blue  Green    Red\n",
            "0  False  False   True\n",
            "1   True  False  False\n",
            "2  False   True  False\n",
            "3   True  False  False\n",
            "4  False  False   True\n",
            "Ordinal Encoded Data: [[0.]\n",
            " [2.]\n",
            " [1.]\n",
            " [2.]\n",
            " [1.]]\n",
            "Requirement already satisfied: category_encoders in /usr/local/lib/python3.11/dist-packages (2.8.0)\n",
            "Requirement already satisfied: numpy>=1.14.0 in /usr/local/lib/python3.11/dist-packages (from category_encoders) (1.26.4)\n",
            "Requirement already satisfied: pandas>=1.0.5 in /usr/local/lib/python3.11/dist-packages (from category_encoders) (2.2.2)\n",
            "Requirement already satisfied: patsy>=0.5.1 in /usr/local/lib/python3.11/dist-packages (from category_encoders) (1.0.1)\n",
            "Requirement already satisfied: scikit-learn>=1.6.0 in /usr/local/lib/python3.11/dist-packages (from category_encoders) (1.6.1)\n",
            "Requirement already satisfied: scipy>=1.0.0 in /usr/local/lib/python3.11/dist-packages (from category_encoders) (1.13.1)\n",
            "Requirement already satisfied: statsmodels>=0.9.0 in /usr/local/lib/python3.11/dist-packages (from category_encoders) (0.14.4)\n",
            "Requirement already satisfied: python-dateutil>=2.8.2 in /usr/local/lib/python3.11/dist-packages (from pandas>=1.0.5->category_encoders) (2.8.2)\n",
            "Requirement already satisfied: pytz>=2020.1 in /usr/local/lib/python3.11/dist-packages (from pandas>=1.0.5->category_encoders) (2025.1)\n",
            "Requirement already satisfied: tzdata>=2022.7 in /usr/local/lib/python3.11/dist-packages (from pandas>=1.0.5->category_encoders) (2025.1)\n",
            "Requirement already satisfied: joblib>=1.2.0 in /usr/local/lib/python3.11/dist-packages (from scikit-learn>=1.6.0->category_encoders) (1.4.2)\n",
            "Requirement already satisfied: threadpoolctl>=3.1.0 in /usr/local/lib/python3.11/dist-packages (from scikit-learn>=1.6.0->category_encoders) (3.5.0)\n",
            "Requirement already satisfied: packaging>=21.3 in /usr/local/lib/python3.11/dist-packages (from statsmodels>=0.9.0->category_encoders) (24.2)\n",
            "Requirement already satisfied: six>=1.5 in /usr/local/lib/python3.11/dist-packages (from python-dateutil>=2.8.2->pandas>=1.0.5->category_encoders) (1.17.0)\n",
            "Target encoded:       Color\n",
            "0  0.656740\n",
            "1  0.625197\n",
            "2  0.541206\n",
            "3  0.625197\n",
            "4  0.656740\n",
            "5  0.625197\n",
            "6  0.541206\n",
            "7  0.541206\n",
            "8  0.541206\n",
            "9  0.625197\n",
            "binary encoded: \n",
            "\n",
            "   Color_0  Color_1  Color_2\n",
            "0        0        0        1\n",
            "1        0        1        0\n",
            "2        0        1        1\n",
            "3        0        0        1\n",
            "4        1        0        0\n",
            "frequency encoded: \n",
            "\n",
            "encoded data:  [3, 1, 1, 3, 3]\n"
          ]
        }
      ]
    }
  ]
}